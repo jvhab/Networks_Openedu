{
 "cells": [
  {
   "cell_type": "code",
   "execution_count": 1,
   "id": "remarkable-fashion",
   "metadata": {
    "_cell_guid": "b1076dfc-b9ad-4769-8c92-a6c4dae69d19",
    "_uuid": "8f2839f25d086af736a60e9eeb907d3b93b6e0e5",
    "execution": {
     "iopub.execute_input": "2021-05-16T18:58:59.912903Z",
     "iopub.status.busy": "2021-05-16T18:58:59.909657Z",
     "iopub.status.idle": "2021-05-16T18:59:05.772792Z",
     "shell.execute_reply": "2021-05-16T18:59:05.773330Z"
    },
    "papermill": {
     "duration": 5.883863,
     "end_time": "2021-05-16T18:59:05.773633",
     "exception": false,
     "start_time": "2021-05-16T18:58:59.889770",
     "status": "completed"
    },
    "tags": []
   },
   "outputs": [
    {
     "name": "stdout",
     "output_type": "stream",
     "text": [
      "/kaggle/input/dl-urfu-regression/sample_submission.csv\n",
      "/kaggle/input/dl-urfu-regression/train.csv\n",
      "/kaggle/input/dl-urfu-regression/test.csv\n"
     ]
    }
   ],
   "source": [
    "from tensorflow.keras.models import Sequential\n",
    "from tensorflow.keras.layers import Dense\n",
    "import pandas as pd\n",
    "import numpy as np\n",
    "import matplotlib.pyplot as plt\n",
    "%matplotlib inline \n",
    "\"\"\" посмотрим, какие файлы храняться в директории \"\"\"\n",
    "import os\n",
    "for dirname, _, filenames in os.walk('/kaggle/input/'):\n",
    "    for filename in filenames:\n",
    "        print(os.path.join(dirname, filename))"
   ]
  },
  {
   "cell_type": "code",
   "execution_count": 2,
   "id": "fitted-banks",
   "metadata": {
    "execution": {
     "iopub.execute_input": "2021-05-16T18:59:05.800057Z",
     "iopub.status.busy": "2021-05-16T18:59:05.799415Z",
     "iopub.status.idle": "2021-05-16T18:59:05.873163Z",
     "shell.execute_reply": "2021-05-16T18:59:05.872629Z"
    },
    "papermill": {
     "duration": 0.088842,
     "end_time": "2021-05-16T18:59:05.873356",
     "exception": false,
     "start_time": "2021-05-16T18:59:05.784514",
     "status": "completed"
    },
    "tags": []
   },
   "outputs": [],
   "source": [
    "train_df = pd.read_csv('/kaggle/input/dl-urfu-regression/train.csv')\n",
    "test_df = pd.read_csv('/kaggle/input/dl-urfu-regression/test.csv')\n",
    "sample_submission = pd.read_csv('/kaggle/input/dl-urfu-regression/sample_submission.csv', index_col='id')"
   ]
  },
  {
   "cell_type": "markdown",
   "id": "premier-arbitration",
   "metadata": {
    "papermill": {
     "duration": 0.009446,
     "end_time": "2021-05-16T18:59:05.892756",
     "exception": false,
     "start_time": "2021-05-16T18:59:05.883310",
     "status": "completed"
    },
    "tags": []
   },
   "source": [
    "Описание данных\n",
    "\n",
    "California Housing содержит данные о средней стоимость домов в Калифорнии для квартала. Файл с данными содержит следующие столбцы:\n",
    "\n",
    "* longitude - долгота квартала с недвижимостью.\n",
    "* latitude - широта квартала с недвижимостью.\n",
    "* housing_median_age - медиана возраста домов в квартале.\n",
    "* total_rooms - общее колиичество комнат в квартале.\n",
    "* total_bedrooms - общее количество спален в квартале.\n",
    "* population - население квартала.\n",
    "* households - количество \"домохозяйств\" в квартале (групп людей живущих вместе в одном доме. Как правило это семьи).\n",
    "* median_income - медианный доход в квартале.\n",
    "* median_house_value - медианная стоимость дома в квартале."
   ]
  },
  {
   "cell_type": "code",
   "execution_count": 3,
   "id": "partial-inspiration",
   "metadata": {
    "execution": {
     "iopub.execute_input": "2021-05-16T18:59:05.917934Z",
     "iopub.status.busy": "2021-05-16T18:59:05.917066Z",
     "iopub.status.idle": "2021-05-16T18:59:05.921677Z",
     "shell.execute_reply": "2021-05-16T18:59:05.921035Z"
    },
    "papermill": {
     "duration": 0.01922,
     "end_time": "2021-05-16T18:59:05.921831",
     "exception": false,
     "start_time": "2021-05-16T18:59:05.902611",
     "status": "completed"
    },
    "tags": []
   },
   "outputs": [],
   "source": [
    "y_train = train_df.pop('median_house_value').values\n",
    "x_train = train_df.values\n",
    "x_test = test_df.values"
   ]
  },
  {
   "cell_type": "code",
   "execution_count": 4,
   "id": "empirical-figure",
   "metadata": {
    "execution": {
     "iopub.execute_input": "2021-05-16T18:59:05.945220Z",
     "iopub.status.busy": "2021-05-16T18:59:05.944276Z",
     "iopub.status.idle": "2021-05-16T18:59:05.950929Z",
     "shell.execute_reply": "2021-05-16T18:59:05.951496Z"
    },
    "papermill": {
     "duration": 0.020075,
     "end_time": "2021-05-16T18:59:05.951685",
     "exception": false,
     "start_time": "2021-05-16T18:59:05.931610",
     "status": "completed"
    },
    "tags": []
   },
   "outputs": [],
   "source": [
    "# Среднее значение\n",
    "mean = x_train.mean(axis=0)\n",
    "# Стандартное отклонение\n",
    "std = x_train.std(axis=0)\n",
    "x_train -= mean\n",
    "x_train /= std\n",
    "x_test -= mean\n",
    "x_test /= std"
   ]
  },
  {
   "cell_type": "code",
   "execution_count": 5,
   "id": "desirable-medium",
   "metadata": {
    "execution": {
     "iopub.execute_input": "2021-05-16T18:59:05.975360Z",
     "iopub.status.busy": "2021-05-16T18:59:05.974396Z",
     "iopub.status.idle": "2021-05-16T18:59:06.094850Z",
     "shell.execute_reply": "2021-05-16T18:59:06.095345Z"
    },
    "papermill": {
     "duration": 0.13407,
     "end_time": "2021-05-16T18:59:06.095533",
     "exception": false,
     "start_time": "2021-05-16T18:59:05.961463",
     "status": "completed"
    },
    "tags": []
   },
   "outputs": [],
   "source": [
    "model = Sequential()\n",
    "model.add(Dense(1000, activation='relu', input_shape=(x_train.shape[1],)))\n",
    "model.add(Dense(500, activation='relu'))\n",
    "model.add(Dense(250, activation='relu'))\n",
    "model.add(Dense(100, activation='relu'))\n",
    "model.add(Dense(1, activation='relu'))"
   ]
  },
  {
   "cell_type": "code",
   "execution_count": 6,
   "id": "flexible-manhattan",
   "metadata": {
    "execution": {
     "iopub.execute_input": "2021-05-16T18:59:06.122473Z",
     "iopub.status.busy": "2021-05-16T18:59:06.121697Z",
     "iopub.status.idle": "2021-05-16T18:59:06.127921Z",
     "shell.execute_reply": "2021-05-16T18:59:06.128600Z"
    },
    "papermill": {
     "duration": 0.023186,
     "end_time": "2021-05-16T18:59:06.128810",
     "exception": false,
     "start_time": "2021-05-16T18:59:06.105624",
     "status": "completed"
    },
    "tags": []
   },
   "outputs": [
    {
     "name": "stdout",
     "output_type": "stream",
     "text": [
      "Model: \"sequential\"\n",
      "_________________________________________________________________\n",
      "Layer (type)                 Output Shape              Param #   \n",
      "=================================================================\n",
      "dense (Dense)                (None, 1000)              9000      \n",
      "_________________________________________________________________\n",
      "dense_1 (Dense)              (None, 500)               500500    \n",
      "_________________________________________________________________\n",
      "dense_2 (Dense)              (None, 250)               125250    \n",
      "_________________________________________________________________\n",
      "dense_3 (Dense)              (None, 100)               25100     \n",
      "_________________________________________________________________\n",
      "dense_4 (Dense)              (None, 1)                 101       \n",
      "=================================================================\n",
      "Total params: 659,951\n",
      "Trainable params: 659,951\n",
      "Non-trainable params: 0\n",
      "_________________________________________________________________\n",
      "None\n"
     ]
    }
   ],
   "source": [
    "print(model.summary())"
   ]
  },
  {
   "cell_type": "code",
   "execution_count": 7,
   "id": "illegal-vertical",
   "metadata": {
    "execution": {
     "iopub.execute_input": "2021-05-16T18:59:06.162577Z",
     "iopub.status.busy": "2021-05-16T18:59:06.155936Z",
     "iopub.status.idle": "2021-05-16T18:59:06.170031Z",
     "shell.execute_reply": "2021-05-16T18:59:06.169459Z"
    },
    "papermill": {
     "duration": 0.030543,
     "end_time": "2021-05-16T18:59:06.170179",
     "exception": false,
     "start_time": "2021-05-16T18:59:06.139636",
     "status": "completed"
    },
    "tags": []
   },
   "outputs": [],
   "source": [
    "model.compile(optimizer='adam', loss='mse', metrics='mae')"
   ]
  },
  {
   "cell_type": "code",
   "execution_count": 8,
   "id": "functioning-wages",
   "metadata": {
    "execution": {
     "iopub.execute_input": "2021-05-16T18:59:06.197897Z",
     "iopub.status.busy": "2021-05-16T18:59:06.197218Z",
     "iopub.status.idle": "2021-05-16T19:11:05.803316Z",
     "shell.execute_reply": "2021-05-16T19:11:05.803755Z"
    },
    "papermill": {
     "duration": 719.623123,
     "end_time": "2021-05-16T19:11:05.804032",
     "exception": false,
     "start_time": "2021-05-16T18:59:06.180909",
     "status": "completed"
    },
    "tags": []
   },
   "outputs": [
    {
     "name": "stdout",
     "output_type": "stream",
     "text": [
      "Epoch 1/50\n",
      "3060/3060 - 16s - loss: 6468853760.0000 - mae: 55638.1992 - val_loss: 4258082048.0000 - val_mae: 48538.1914\n",
      "Epoch 2/50\n",
      "3060/3060 - 15s - loss: 4499379712.0000 - mae: 47675.1641 - val_loss: 4263586816.0000 - val_mae: 45445.0547\n",
      "Epoch 3/50\n",
      "3060/3060 - 15s - loss: 4394696704.0000 - mae: 46853.5391 - val_loss: 4121835776.0000 - val_mae: 46839.3867\n",
      "Epoch 4/50\n",
      "3060/3060 - 14s - loss: 4281407232.0000 - mae: 46282.3984 - val_loss: 3988107008.0000 - val_mae: 44290.4102\n",
      "Epoch 5/50\n",
      "3060/3060 - 15s - loss: 4179832576.0000 - mae: 45527.6211 - val_loss: 3776482304.0000 - val_mae: 44531.6367\n",
      "Epoch 6/50\n",
      "3060/3060 - 14s - loss: 3967690240.0000 - mae: 44431.2422 - val_loss: 3564577280.0000 - val_mae: 42805.1211\n",
      "Epoch 7/50\n",
      "3060/3060 - 14s - loss: 3747297792.0000 - mae: 43200.8594 - val_loss: 3563957248.0000 - val_mae: 42952.7031\n",
      "Epoch 8/50\n",
      "3060/3060 - 14s - loss: 3603828992.0000 - mae: 42237.9219 - val_loss: 3668642560.0000 - val_mae: 42859.7539\n",
      "Epoch 9/50\n",
      "3060/3060 - 14s - loss: 3476290304.0000 - mae: 41400.7422 - val_loss: 3229018624.0000 - val_mae: 40614.6367\n",
      "Epoch 10/50\n",
      "3060/3060 - 14s - loss: 3386851840.0000 - mae: 40591.1719 - val_loss: 3080464384.0000 - val_mae: 38819.0859\n",
      "Epoch 11/50\n",
      "3060/3060 - 14s - loss: 3322688512.0000 - mae: 39986.4922 - val_loss: 3067365376.0000 - val_mae: 38197.5195\n",
      "Epoch 12/50\n",
      "3060/3060 - 14s - loss: 3272726272.0000 - mae: 39745.4180 - val_loss: 3039601408.0000 - val_mae: 39555.0977\n",
      "Epoch 13/50\n",
      "3060/3060 - 14s - loss: 3193725952.0000 - mae: 38986.8242 - val_loss: 2947768064.0000 - val_mae: 37837.5469\n",
      "Epoch 14/50\n",
      "3060/3060 - 14s - loss: 3152184832.0000 - mae: 38841.8633 - val_loss: 3257371648.0000 - val_mae: 40764.5273\n",
      "Epoch 15/50\n",
      "3060/3060 - 14s - loss: 3126162688.0000 - mae: 38576.4023 - val_loss: 3837802752.0000 - val_mae: 42140.2227\n",
      "Epoch 16/50\n",
      "3060/3060 - 14s - loss: 3074781952.0000 - mae: 38122.3984 - val_loss: 2885120512.0000 - val_mae: 37884.1562\n",
      "Epoch 17/50\n",
      "3060/3060 - 14s - loss: 3052553984.0000 - mae: 37908.9492 - val_loss: 4790178816.0000 - val_mae: 55173.1211\n",
      "Epoch 18/50\n",
      "3060/3060 - 14s - loss: 3040783872.0000 - mae: 37895.6875 - val_loss: 2904775680.0000 - val_mae: 37985.5820\n",
      "Epoch 19/50\n",
      "3060/3060 - 14s - loss: 3003467008.0000 - mae: 37507.5234 - val_loss: 2849653248.0000 - val_mae: 38828.0859\n",
      "Epoch 20/50\n",
      "3060/3060 - 14s - loss: 2975489024.0000 - mae: 37538.6055 - val_loss: 2772893440.0000 - val_mae: 37483.1367\n",
      "Epoch 21/50\n",
      "3060/3060 - 14s - loss: 2966384896.0000 - mae: 37366.7852 - val_loss: 3187800320.0000 - val_mae: 38853.7031\n",
      "Epoch 22/50\n",
      "3060/3060 - 14s - loss: 2929325824.0000 - mae: 37092.9062 - val_loss: 3125750528.0000 - val_mae: 39167.0078\n",
      "Epoch 23/50\n",
      "3060/3060 - 14s - loss: 2932862976.0000 - mae: 37127.7812 - val_loss: 2857899776.0000 - val_mae: 36607.8242\n",
      "Epoch 24/50\n",
      "3060/3060 - 14s - loss: 2903382784.0000 - mae: 37001.3086 - val_loss: 3528268288.0000 - val_mae: 44832.5000\n",
      "Epoch 25/50\n",
      "3060/3060 - 14s - loss: 2888733184.0000 - mae: 36811.0000 - val_loss: 2979074816.0000 - val_mae: 36967.6094\n",
      "Epoch 26/50\n",
      "3060/3060 - 15s - loss: 2850999808.0000 - mae: 36513.8750 - val_loss: 2799219712.0000 - val_mae: 38342.3281\n",
      "Epoch 27/50\n",
      "3060/3060 - 14s - loss: 2858249472.0000 - mae: 36704.7188 - val_loss: 2878771712.0000 - val_mae: 36970.3164\n",
      "Epoch 28/50\n",
      "3060/3060 - 14s - loss: 2835994880.0000 - mae: 36484.4258 - val_loss: 2768921856.0000 - val_mae: 36388.8516\n",
      "Epoch 29/50\n",
      "3060/3060 - 14s - loss: 2816456448.0000 - mae: 36321.5117 - val_loss: 2764643328.0000 - val_mae: 36620.4258\n",
      "Epoch 30/50\n",
      "3060/3060 - 14s - loss: 2826318080.0000 - mae: 36406.3203 - val_loss: 2693200640.0000 - val_mae: 36239.7617\n",
      "Epoch 31/50\n",
      "3060/3060 - 14s - loss: 2792902656.0000 - mae: 36205.6758 - val_loss: 2899505664.0000 - val_mae: 38439.6133\n",
      "Epoch 32/50\n",
      "3060/3060 - 14s - loss: 2789858816.0000 - mae: 36148.9766 - val_loss: 2792442368.0000 - val_mae: 37476.4531\n",
      "Epoch 33/50\n",
      "3060/3060 - 15s - loss: 2766833408.0000 - mae: 35896.9844 - val_loss: 3075392000.0000 - val_mae: 39562.9688\n",
      "Epoch 34/50\n",
      "3060/3060 - 14s - loss: 2748412672.0000 - mae: 35975.3242 - val_loss: 2783856640.0000 - val_mae: 35848.6094\n",
      "Epoch 35/50\n",
      "3060/3060 - 14s - loss: 2753881856.0000 - mae: 35863.6641 - val_loss: 2868475136.0000 - val_mae: 38820.7344\n",
      "Epoch 36/50\n",
      "3060/3060 - 14s - loss: 2730027520.0000 - mae: 35686.4023 - val_loss: 2843290368.0000 - val_mae: 39246.4062\n",
      "Epoch 37/50\n",
      "3060/3060 - 14s - loss: 2719416576.0000 - mae: 35788.1250 - val_loss: 3249708544.0000 - val_mae: 41760.6250\n",
      "Epoch 38/50\n",
      "3060/3060 - 14s - loss: 2722528256.0000 - mae: 35628.5742 - val_loss: 2618694656.0000 - val_mae: 35147.8320\n",
      "Epoch 39/50\n",
      "3060/3060 - 14s - loss: 2714563840.0000 - mae: 35564.6758 - val_loss: 2803025408.0000 - val_mae: 37633.3867\n",
      "Epoch 40/50\n",
      "3060/3060 - 14s - loss: 2682017792.0000 - mae: 35435.4141 - val_loss: 2601025792.0000 - val_mae: 35021.6680\n",
      "Epoch 41/50\n",
      "3060/3060 - 14s - loss: 2677591296.0000 - mae: 35313.2500 - val_loss: 2639922176.0000 - val_mae: 35795.5586\n",
      "Epoch 42/50\n",
      "3060/3060 - 20s - loss: 2661651712.0000 - mae: 35329.0000 - val_loss: 2683894528.0000 - val_mae: 36152.5977\n",
      "Epoch 43/50\n",
      "3060/3060 - 15s - loss: 2624270592.0000 - mae: 35021.5625 - val_loss: 2759690240.0000 - val_mae: 35846.1836\n",
      "Epoch 44/50\n",
      "3060/3060 - 14s - loss: 2643504128.0000 - mae: 35139.6836 - val_loss: 2594854400.0000 - val_mae: 35161.0430\n",
      "Epoch 45/50\n",
      "3060/3060 - 14s - loss: 2645499136.0000 - mae: 35019.4336 - val_loss: 2752631040.0000 - val_mae: 37266.8867\n",
      "Epoch 46/50\n",
      "3060/3060 - 14s - loss: 2612580864.0000 - mae: 34796.7852 - val_loss: 2776832768.0000 - val_mae: 35987.8086\n",
      "Epoch 47/50\n",
      "3060/3060 - 14s - loss: 2606769920.0000 - mae: 34768.3672 - val_loss: 2841372672.0000 - val_mae: 36317.2148\n",
      "Epoch 48/50\n",
      "3060/3060 - 14s - loss: 2600125440.0000 - mae: 34619.7930 - val_loss: 2620920576.0000 - val_mae: 34554.0078\n",
      "Epoch 49/50\n",
      "3060/3060 - 14s - loss: 2570889472.0000 - mae: 34544.6797 - val_loss: 2694127872.0000 - val_mae: 36966.2031\n",
      "Epoch 50/50\n",
      "3060/3060 - 14s - loss: 2559558912.0000 - mae: 34547.9297 - val_loss: 2627684864.0000 - val_mae: 35739.3516\n"
     ]
    },
    {
     "data": {
      "text/plain": [
       "<tensorflow.python.keras.callbacks.History at 0x7f7958365950>"
      ]
     },
     "execution_count": 8,
     "metadata": {},
     "output_type": "execute_result"
    }
   ],
   "source": [
    "model.fit(x_train, y_train, epochs=50, batch_size=5, validation_split=0.1, verbose=2)"
   ]
  },
  {
   "cell_type": "code",
   "execution_count": 9,
   "id": "monthly-deviation",
   "metadata": {
    "execution": {
     "iopub.execute_input": "2021-05-16T19:11:05.890085Z",
     "iopub.status.busy": "2021-05-16T19:11:05.889382Z",
     "iopub.status.idle": "2021-05-16T19:11:06.162664Z",
     "shell.execute_reply": "2021-05-16T19:11:06.162082Z"
    },
    "papermill": {
     "duration": 0.318171,
     "end_time": "2021-05-16T19:11:06.162824",
     "exception": false,
     "start_time": "2021-05-16T19:11:05.844653",
     "status": "completed"
    },
    "tags": []
   },
   "outputs": [],
   "source": [
    "predictions = model.predict(x_test)"
   ]
  },
  {
   "cell_type": "code",
   "execution_count": 10,
   "id": "asian-seeker",
   "metadata": {
    "execution": {
     "iopub.execute_input": "2021-05-16T19:11:06.250340Z",
     "iopub.status.busy": "2021-05-16T19:11:06.249702Z",
     "iopub.status.idle": "2021-05-16T19:11:06.254116Z",
     "shell.execute_reply": "2021-05-16T19:11:06.254575Z"
    },
    "papermill": {
     "duration": 0.050973,
     "end_time": "2021-05-16T19:11:06.254769",
     "exception": false,
     "start_time": "2021-05-16T19:11:06.203796",
     "status": "completed"
    },
    "tags": []
   },
   "outputs": [],
   "source": [
    "sample_submission['median_house_value'] = predictions"
   ]
  },
  {
   "cell_type": "code",
   "execution_count": 11,
   "id": "opposed-creator",
   "metadata": {
    "execution": {
     "iopub.execute_input": "2021-05-16T19:11:06.340195Z",
     "iopub.status.busy": "2021-05-16T19:11:06.339567Z",
     "iopub.status.idle": "2021-05-16T19:11:06.356995Z",
     "shell.execute_reply": "2021-05-16T19:11:06.356437Z"
    },
    "papermill": {
     "duration": 0.061851,
     "end_time": "2021-05-16T19:11:06.357132",
     "exception": false,
     "start_time": "2021-05-16T19:11:06.295281",
     "status": "completed"
    },
    "tags": []
   },
   "outputs": [],
   "source": [
    "sample_submission.to_csv('sample_submission.csv')"
   ]
  }
 ],
 "metadata": {
  "kernelspec": {
   "display_name": "Python 3",
   "language": "python",
   "name": "python3"
  },
  "language_info": {
   "codemirror_mode": {
    "name": "ipython",
    "version": 3
   },
   "file_extension": ".py",
   "mimetype": "text/x-python",
   "name": "python",
   "nbconvert_exporter": "python",
   "pygments_lexer": "ipython3",
   "version": "3.7.10"
  },
  "papermill": {
   "default_parameters": {},
   "duration": 736.054101,
   "end_time": "2021-05-16T19:11:07.914208",
   "environment_variables": {},
   "exception": null,
   "input_path": "__notebook__.ipynb",
   "output_path": "__notebook__.ipynb",
   "parameters": {},
   "start_time": "2021-05-16T18:58:51.860107",
   "version": "2.3.3"
  }
 },
 "nbformat": 4,
 "nbformat_minor": 5
}
