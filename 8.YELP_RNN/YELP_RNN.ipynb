{
  "nbformat": 4,
  "nbformat_minor": 0,
  "metadata": {
    "colab": {
      "name": "YELP_RNN",
      "provenance": [],
      "collapsed_sections": []
    },
    "kernelspec": {
      "name": "python3",
      "display_name": "Python 3"
    },
    "language_info": {
      "name": "python"
    },
    "accelerator": "GPU"
  },
  "cells": [
    {
      "cell_type": "code",
      "metadata": {
        "id": "SmKgceC5YYIg"
      },
      "source": [
        "from tensorflow.keras.models import Sequential\n",
        "from tensorflow.keras.layers import Dense, Embedding, GRU, LSTM\n",
        "from tensorflow.keras import utils\n",
        "from tensorflow.keras.preprocessing.sequence import pad_sequences\n",
        "from tensorflow.keras.preprocessing.text import Tokenizer\n",
        "from tensorflow.keras.callbacks import ModelCheckpoint\n",
        "\n",
        "import pandas as pd\n",
        "import numpy as np\n",
        "import matplotlib.pyplot as plt\n",
        "%matplotlib inline"
      ],
      "execution_count": 1,
      "outputs": []
    },
    {
      "cell_type": "code",
      "metadata": {
        "id": "01Oc-eihbZgW"
      },
      "source": [
        "num_words = 10000\n",
        "max_review_len = 100"
      ],
      "execution_count": 2,
      "outputs": []
    },
    {
      "cell_type": "code",
      "metadata": {
        "id": "CjS6htw8bhMx"
      },
      "source": [
        ""
      ],
      "execution_count": null,
      "outputs": []
    },
    {
      "cell_type": "markdown",
      "metadata": {
        "id": "NbQzaYqLbhxF"
      },
      "source": [
        "### Загрузка данных"
      ]
    },
    {
      "cell_type": "code",
      "metadata": {
        "colab": {
          "base_uri": "https://localhost:8080/"
        },
        "id": "ExLE-vR2bfHU",
        "outputId": "c46be6f5-29de-4e7f-8716-c99f00657427"
      },
      "source": [
        "!wget https://www.dropbox.com/s/ufbhk3kadtnn6h0/yelp_review_polarity_csv.tgz?dl=1 -O yelp_review_polarity_csv.tgz"
      ],
      "execution_count": 3,
      "outputs": [
        {
          "output_type": "stream",
          "text": [
            "--2021-05-29 14:01:49--  https://www.dropbox.com/s/ufbhk3kadtnn6h0/yelp_review_polarity_csv.tgz?dl=1\n",
            "Resolving www.dropbox.com (www.dropbox.com)... 162.125.4.18, 2620:100:6017:18::a27d:212\n",
            "Connecting to www.dropbox.com (www.dropbox.com)|162.125.4.18|:443... connected.\n",
            "HTTP request sent, awaiting response... 301 Moved Permanently\n",
            "Location: /s/dl/ufbhk3kadtnn6h0/yelp_review_polarity_csv.tgz [following]\n",
            "--2021-05-29 14:01:50--  https://www.dropbox.com/s/dl/ufbhk3kadtnn6h0/yelp_review_polarity_csv.tgz\n",
            "Reusing existing connection to www.dropbox.com:443.\n",
            "HTTP request sent, awaiting response... 302 Found\n",
            "Location: https://ucad5c3d1e48c21c9b4681cbb911.dl.dropboxusercontent.com/cd/0/get/BPbo5nJXyfr7yylPIsPxNlf6mM8B7tjCLMQOe5qECJn5F2IdshN8-whMOnu_ZJrzu3xrrOUVNf19rPfY90bK0Te_lK-qA8Iald88u58d1wju45tp_s6tatXvemnre98YFYApq6d0Rkt7ulAOww_0LThk/file?dl=1# [following]\n",
            "--2021-05-29 14:01:50--  https://ucad5c3d1e48c21c9b4681cbb911.dl.dropboxusercontent.com/cd/0/get/BPbo5nJXyfr7yylPIsPxNlf6mM8B7tjCLMQOe5qECJn5F2IdshN8-whMOnu_ZJrzu3xrrOUVNf19rPfY90bK0Te_lK-qA8Iald88u58d1wju45tp_s6tatXvemnre98YFYApq6d0Rkt7ulAOww_0LThk/file?dl=1\n",
            "Resolving ucad5c3d1e48c21c9b4681cbb911.dl.dropboxusercontent.com (ucad5c3d1e48c21c9b4681cbb911.dl.dropboxusercontent.com)... 162.125.2.15, 2620:100:6017:15::a27d:20f\n",
            "Connecting to ucad5c3d1e48c21c9b4681cbb911.dl.dropboxusercontent.com (ucad5c3d1e48c21c9b4681cbb911.dl.dropboxusercontent.com)|162.125.2.15|:443... connected.\n",
            "HTTP request sent, awaiting response... 200 OK\n",
            "Length: 166373201 (159M) [application/binary]\n",
            "Saving to: ‘yelp_review_polarity_csv.tgz’\n",
            "\n",
            "yelp_review_polarit 100%[===================>] 158.67M   155MB/s    in 1.0s    \n",
            "\n",
            "2021-05-29 14:01:51 (155 MB/s) - ‘yelp_review_polarity_csv.tgz’ saved [166373201/166373201]\n",
            "\n"
          ],
          "name": "stdout"
        }
      ]
    },
    {
      "cell_type": "code",
      "metadata": {
        "colab": {
          "base_uri": "https://localhost:8080/"
        },
        "id": "53bszcohblJM",
        "outputId": "67651153-397c-4f20-b3e1-73c2dcfd4659"
      },
      "source": [
        "!tar -xvf yelp_review_polarity_csv.tgz"
      ],
      "execution_count": 4,
      "outputs": [
        {
          "output_type": "stream",
          "text": [
            "yelp_review_polarity_csv/\n",
            "yelp_review_polarity_csv/train.csv\n",
            "yelp_review_polarity_csv/readme.txt\n",
            "yelp_review_polarity_csv/test.csv\n"
          ],
          "name": "stdout"
        }
      ]
    },
    {
      "cell_type": "code",
      "metadata": {
        "id": "LwXVmwTRbnu9"
      },
      "source": [
        "train = pd.read_csv('yelp_review_polarity_csv/train.csv', header=None, names=['Class', 'Review'])"
      ],
      "execution_count": 6,
      "outputs": []
    },
    {
      "cell_type": "code",
      "metadata": {
        "id": "ACz4dwSzbsw0"
      },
      "source": [
        "reviews = train['Review']"
      ],
      "execution_count": 7,
      "outputs": []
    },
    {
      "cell_type": "code",
      "metadata": {
        "colab": {
          "base_uri": "https://localhost:8080/"
        },
        "id": "YT4XtaoXb3br",
        "outputId": "e8e7638a-b3c4-422c-9356-e7b2dbcb5fad"
      },
      "source": [
        "reviews"
      ],
      "execution_count": 8,
      "outputs": [
        {
          "output_type": "execute_result",
          "data": {
            "text/plain": [
              "0         Unfortunately, the frustration of being Dr. Go...\n",
              "1         Been going to Dr. Goldberg for over 10 years. ...\n",
              "2         I don't know what Dr. Goldberg was like before...\n",
              "3         I'm writing this review to give you a heads up...\n",
              "4         All the food is great here. But the best thing...\n",
              "                                ...                        \n",
              "559995    Ryan was as good as everyone on yelp has claim...\n",
              "559996    Professional \\nFriendly\\nOn time AND affordabl...\n",
              "559997    Phone calls always go to voicemail and message...\n",
              "559998    Looks like all of the good reviews have gone t...\n",
              "559999    Ryan Rocks! I called him this morning for some...\n",
              "Name: Review, Length: 560000, dtype: object"
            ]
          },
          "metadata": {
            "tags": []
          },
          "execution_count": 8
        }
      ]
    },
    {
      "cell_type": "code",
      "metadata": {
        "id": "dljD2Q_Fb7Ir"
      },
      "source": [
        "y_train = train['Class'] - 1"
      ],
      "execution_count": 9,
      "outputs": []
    },
    {
      "cell_type": "code",
      "metadata": {
        "colab": {
          "base_uri": "https://localhost:8080/"
        },
        "id": "WM-a4XKUcCBS",
        "outputId": "96a9e3e0-31b1-420b-d646-fb9e0be36b68"
      },
      "source": [
        "y_train"
      ],
      "execution_count": 10,
      "outputs": [
        {
          "output_type": "execute_result",
          "data": {
            "text/plain": [
              "0         0\n",
              "1         1\n",
              "2         0\n",
              "3         0\n",
              "4         1\n",
              "         ..\n",
              "559995    1\n",
              "559996    1\n",
              "559997    0\n",
              "559998    0\n",
              "559999    1\n",
              "Name: Class, Length: 560000, dtype: int64"
            ]
          },
          "metadata": {
            "tags": []
          },
          "execution_count": 10
        }
      ]
    },
    {
      "cell_type": "markdown",
      "metadata": {
        "id": "5OXpdZ7XcFkD"
      },
      "source": [
        "### Токенизация текста"
      ]
    },
    {
      "cell_type": "code",
      "metadata": {
        "id": "mAI4SX8ScHAD"
      },
      "source": [
        " tokenizer = Tokenizer(num_words=num_words)"
      ],
      "execution_count": 11,
      "outputs": []
    },
    {
      "cell_type": "markdown",
      "metadata": {
        "id": "NXA6yNqvfOlE"
      },
      "source": [
        "### Обучение токенизатора на тексте"
      ]
    },
    {
      "cell_type": "code",
      "metadata": {
        "id": "E-791qdkfSnW"
      },
      "source": [
        "tokenizer.fit_on_texts(reviews)"
      ],
      "execution_count": 12,
      "outputs": []
    },
    {
      "cell_type": "markdown",
      "metadata": {
        "id": "taumFbYpfdaP"
      },
      "source": [
        "### Преобразование текста в числовое представление"
      ]
    },
    {
      "cell_type": "code",
      "metadata": {
        "id": "N7dj-mgDfi5Y"
      },
      "source": [
        "sequences = tokenizer.texts_to_sequences(reviews)"
      ],
      "execution_count": 14,
      "outputs": []
    },
    {
      "cell_type": "markdown",
      "metadata": {
        "id": "2bOK7RB0fwLM"
      },
      "source": [
        "### Приведение отзывов к одной длине"
      ]
    },
    {
      "cell_type": "code",
      "metadata": {
        "id": "4UROzTHffzQI"
      },
      "source": [
        "x_train = pad_sequences(sequences, maxlen=max_review_len)"
      ],
      "execution_count": 15,
      "outputs": []
    },
    {
      "cell_type": "markdown",
      "metadata": {
        "id": "rscO7acRgTqs"
      },
      "source": [
        "### Создание последовательной модели"
      ]
    },
    {
      "cell_type": "code",
      "metadata": {
        "id": "4mUwftPTgW3A"
      },
      "source": [
        "model = Sequential()\n",
        "model.add(Embedding(num_words, 64, input_length=max_review_len))\n",
        "#model.add(LSTM(64))\n",
        "model.add(GRU(64))\n",
        "model.add(Dense(1, activation='sigmoid'))"
      ],
      "execution_count": 16,
      "outputs": []
    },
    {
      "cell_type": "code",
      "metadata": {
        "id": "36XKd1TZgrqm"
      },
      "source": [
        "model.compile(optimizer='adam', loss='binary_crossentropy', metrics='accuracy')"
      ],
      "execution_count": 20,
      "outputs": []
    },
    {
      "cell_type": "code",
      "metadata": {
        "colab": {
          "base_uri": "https://localhost:8080/"
        },
        "id": "mkhvPfGbg7NP",
        "outputId": "47c9617d-2994-4797-8b2d-7295a5948067"
      },
      "source": [
        "model.summary()"
      ],
      "execution_count": 21,
      "outputs": [
        {
          "output_type": "stream",
          "text": [
            "Model: \"sequential\"\n",
            "_________________________________________________________________\n",
            "Layer (type)                 Output Shape              Param #   \n",
            "=================================================================\n",
            "embedding (Embedding)        (None, 100, 64)           640000    \n",
            "_________________________________________________________________\n",
            "gru (GRU)                    (None, 64)                24960     \n",
            "_________________________________________________________________\n",
            "dense (Dense)                (None, 1)                 65        \n",
            "=================================================================\n",
            "Total params: 665,025\n",
            "Trainable params: 665,025\n",
            "Non-trainable params: 0\n",
            "_________________________________________________________________\n"
          ],
          "name": "stdout"
        }
      ]
    },
    {
      "cell_type": "markdown",
      "metadata": {
        "id": "CpsxT4cng_OL"
      },
      "source": [
        "### Обучение сети"
      ]
    },
    {
      "cell_type": "code",
      "metadata": {
        "colab": {
          "base_uri": "https://localhost:8080/"
        },
        "id": "G99HMV1yhAmf",
        "outputId": "914eb435-e588-4e9a-cbb7-56f03279cce6"
      },
      "source": [
        "history = model.fit(x_train, y_train, epochs=5, batch_size=128, validation_split=0.1)"
      ],
      "execution_count": 22,
      "outputs": [
        {
          "output_type": "stream",
          "text": [
            "Epoch 1/5\n",
            "3938/3938 [==============================] - 67s 15ms/step - loss: 0.2062 - accuracy: 0.9168 - val_loss: 0.1313 - val_accuracy: 0.9499\n",
            "Epoch 2/5\n",
            "3938/3938 [==============================] - 58s 15ms/step - loss: 0.1434 - accuracy: 0.9441 - val_loss: 0.1138 - val_accuracy: 0.9567\n",
            "Epoch 3/5\n",
            "3938/3938 [==============================] - 58s 15ms/step - loss: 0.1194 - accuracy: 0.9541 - val_loss: 0.1081 - val_accuracy: 0.9591\n",
            "Epoch 4/5\n",
            "3938/3938 [==============================] - 58s 15ms/step - loss: 0.1018 - accuracy: 0.9613 - val_loss: 0.1098 - val_accuracy: 0.9584\n",
            "Epoch 5/5\n",
            "3938/3938 [==============================] - 58s 15ms/step - loss: 0.0854 - accuracy: 0.9684 - val_loss: 0.1210 - val_accuracy: 0.9565\n"
          ],
          "name": "stdout"
        }
      ]
    },
    {
      "cell_type": "code",
      "metadata": {
        "colab": {
          "base_uri": "https://localhost:8080/",
          "height": 280
        },
        "id": "KT2GUZ1ahMvI",
        "outputId": "369f7536-2102-4282-8ab3-af214869f773"
      },
      "source": [
        "plt.plot(history.history['accuracy'], \n",
        "         label='Доля верных ответов на обучающем наборе')\n",
        "plt.plot(history.history['val_accuracy'], \n",
        "         label='Доля верных ответов на проверочном наборе')\n",
        "plt.xlabel('Эпоха обучения')\n",
        "plt.ylabel('Доля верных ответов')\n",
        "plt.legend()\n",
        "plt.show()"
      ],
      "execution_count": 23,
      "outputs": [
        {
          "output_type": "display_data",
          "data": {
            "image/png": "[encoded data removed]",
            "text/plain": [
              "<Figure size 432x288 with 1 Axes>"
            ]
          },
          "metadata": {
            "tags": [],
            "needs_background": "light"
          }
        }
      ]
    },
    {
      "cell_type": "code",
      "metadata": {
        "id": "3E9c16FNhjme"
      },
      "source": [
        "test = pd.read_csv('yelp_review_polarity_csv/test.csv', \n",
        "                    header=None, \n",
        "                    names=['Class', 'Review'])"
      ],
      "execution_count": 24,
      "outputs": []
    },
    {
      "cell_type": "code",
      "metadata": {
        "id": "wLZhbHGchl2R"
      },
      "source": [
        "test_sequences = tokenizer.texts_to_sequences(test['Review'])"
      ],
      "execution_count": 25,
      "outputs": []
    },
    {
      "cell_type": "code",
      "metadata": {
        "id": "z2gFNiK1hnYJ"
      },
      "source": [
        "x_test = pad_sequences(test_sequences, maxlen=max_review_len)"
      ],
      "execution_count": 26,
      "outputs": []
    },
    {
      "cell_type": "code",
      "metadata": {
        "id": "mT2Q-rwIhp8z"
      },
      "source": [
        "y_test = test['Class'] - 1"
      ],
      "execution_count": 27,
      "outputs": []
    },
    {
      "cell_type": "code",
      "metadata": {
        "colab": {
          "base_uri": "https://localhost:8080/"
        },
        "id": "-p86KnychrT4",
        "outputId": "99b0c646-ccf9-418a-d2ed-065277d0cb0d"
      },
      "source": [
        "model.evaluate(x_test, y_test, verbose=1)"
      ],
      "execution_count": 28,
      "outputs": [
        {
          "output_type": "stream",
          "text": [
            "1188/1188 [==============================] - 4s 4ms/step - loss: 0.1484 - accuracy: 0.9452\n"
          ],
          "name": "stdout"
        },
        {
          "output_type": "execute_result",
          "data": {
            "text/plain": [
              "[0.14837093651294708, 0.94523686170578]"
            ]
          },
          "metadata": {
            "tags": []
          },
          "execution_count": 28
        }
      ]
    },
    {
      "cell_type": "code",
      "metadata": {
        "id": "kzk5q3hWjAZt"
      },
      "source": [
        ""
      ],
      "execution_count": null,
      "outputs": []
    }
  ]
}