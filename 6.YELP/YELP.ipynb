{
  "nbformat": 4,
  "nbformat_minor": 0,
  "metadata": {
    "colab": {
      "name": "YELP_RNN",
      "provenance": [],
      "collapsed_sections": []
    },
    "kernelspec": {
      "name": "python3",
      "display_name": "Python 3"
    },
    "language_info": {
      "name": "python"
    },
    "accelerator": "GPU"
  },
  "cells": [
    {
      "cell_type": "code",
      "metadata": {
        "id": "BOD5gs-kogu7"
      },
      "source": [
        "# Последовательная модель нейронной сети\n",
        "from tensorflow.keras.models import Sequential\n",
        "\n",
        "# Слои нейронной сети\n",
        "from tensorflow.keras.layers import Dense, Flatten, Dropout, Embedding\n",
        "\n",
        "# Преобразование ответов в One-Hot-Encoding\n",
        "from tensorflow.keras import utils\n",
        "\n",
        "from tensorflow.keras.preprocessing.sequence import pad_sequences\n",
        "from tensorflow.keras.preprocessing.text import Tokenizer\n",
        "\n",
        "import pandas as pd\n",
        "import numpy as np\n",
        "\n",
        "import matplotlib.pyplot as plt\n",
        "%matplotlib inline"
      ],
      "execution_count": 1,
      "outputs": []
    },
    {
      "cell_type": "code",
      "metadata": {
        "id": "A8kYUMMKpzCV"
      },
      "source": [
        "MAX_WORDS = 10000\n",
        "MAX_LEN = 100"
      ],
      "execution_count": 2,
      "outputs": []
    },
    {
      "cell_type": "code",
      "metadata": {
        "colab": {
          "base_uri": "https://localhost:8080/"
        },
        "id": "sMRd4pe8sF5j",
        "outputId": "d2d02c8d-7146-406a-a0e9-d7fd0a040435"
      },
      "source": [
        "!wget https://www.dropbox.com/s/ufbhk3kadtnn6h0/yelp_review_polarity_csv.tgz?dl=1 -O yelp_review_polarity_csv.tgz"
      ],
      "execution_count": 3,
      "outputs": [
        {
          "output_type": "stream",
          "text": [
            "--2021-05-24 12:50:35--  https://www.dropbox.com/s/ufbhk3kadtnn6h0/yelp_review_polarity_csv.tgz?dl=1\n",
            "Resolving www.dropbox.com (www.dropbox.com)... 162.125.5.18, 2620:100:601d:18::a27d:512\n",
            "Connecting to www.dropbox.com (www.dropbox.com)|162.125.5.18|:443... connected.\n",
            "HTTP request sent, awaiting response... 301 Moved Permanently\n",
            "Location: /s/dl/ufbhk3kadtnn6h0/yelp_review_polarity_csv.tgz [following]\n",
            "--2021-05-24 12:50:35--  https://www.dropbox.com/s/dl/ufbhk3kadtnn6h0/yelp_review_polarity_csv.tgz\n",
            "Reusing existing connection to www.dropbox.com:443.\n",
            "HTTP request sent, awaiting response... 302 Found\n",
            "Location: https://uc58e1fa6bbc6ed8eef1789d6ac4.dl.dropboxusercontent.com/cd/0/get/BPESztowUl_ufMGYMDAhq7t2bcvd5xClHnVrmFWpwAjJkzlkFKpM4OCXRwyIYL98Nmf4f9vwMATNbowyC76VyL7Pc362q5IcE_kFfF35H2E7JQ3ieheXe1i6rLwdrbpMKbWvP1rj3Ntm_PwAaMDbJYjh/file?dl=1# [following]\n",
            "--2021-05-24 12:50:36--  https://uc58e1fa6bbc6ed8eef1789d6ac4.dl.dropboxusercontent.com/cd/0/get/BPESztowUl_ufMGYMDAhq7t2bcvd5xClHnVrmFWpwAjJkzlkFKpM4OCXRwyIYL98Nmf4f9vwMATNbowyC76VyL7Pc362q5IcE_kFfF35H2E7JQ3ieheXe1i6rLwdrbpMKbWvP1rj3Ntm_PwAaMDbJYjh/file?dl=1\n",
            "Resolving uc58e1fa6bbc6ed8eef1789d6ac4.dl.dropboxusercontent.com (uc58e1fa6bbc6ed8eef1789d6ac4.dl.dropboxusercontent.com)... 162.125.5.15, 2620:100:601d:15::a27d:50f\n",
            "Connecting to uc58e1fa6bbc6ed8eef1789d6ac4.dl.dropboxusercontent.com (uc58e1fa6bbc6ed8eef1789d6ac4.dl.dropboxusercontent.com)|162.125.5.15|:443... connected.\n",
            "HTTP request sent, awaiting response... 200 OK\n",
            "Length: 166373201 (159M) [application/binary]\n",
            "Saving to: ‘yelp_review_polarity_csv.tgz’\n",
            "\n",
            "yelp_review_polarit 100%[===================>] 158.67M  69.5MB/s    in 2.3s    \n",
            "\n",
            "2021-05-24 12:50:38 (69.5 MB/s) - ‘yelp_review_polarity_csv.tgz’ saved [166373201/166373201]\n",
            "\n"
          ],
          "name": "stdout"
        }
      ]
    },
    {
      "cell_type": "code",
      "metadata": {
        "colab": {
          "base_uri": "https://localhost:8080/"
        },
        "id": "bJjdThgcsLWS",
        "outputId": "ecd218c7-ba6f-4a0f-bd54-57d1d47d164d"
      },
      "source": [
        "!tar -xvf yelp_review_polarity_csv.tgz"
      ],
      "execution_count": 4,
      "outputs": [
        {
          "output_type": "stream",
          "text": [
            "yelp_review_polarity_csv/\n",
            "yelp_review_polarity_csv/train.csv\n",
            "yelp_review_polarity_csv/readme.txt\n",
            "yelp_review_polarity_csv/test.csv\n"
          ],
          "name": "stdout"
        }
      ]
    },
    {
      "cell_type": "code",
      "metadata": {
        "id": "MhMyMfP4sukD"
      },
      "source": [
        "# Как увидел нету название столбцов\n",
        "train = pd.read_csv('yelp_review_polarity_csv/train.csv', header=None, names=['Class', 'Review'])"
      ],
      "execution_count": 5,
      "outputs": []
    },
    {
      "cell_type": "code",
      "metadata": {
        "colab": {
          "base_uri": "https://localhost:8080/",
          "height": 402
        },
        "id": "8KyAzjlMtMVQ",
        "outputId": "824da20b-d317-465b-c05a-1d60598b0b09"
      },
      "source": [
        "train"
      ],
      "execution_count": 6,
      "outputs": [
        {
          "output_type": "execute_result",
          "data": {
            "text/html": [
              "<div>\n",
              "<style scoped>\n",
              "    .dataframe tbody tr th:only-of-type {\n",
              "        vertical-align: middle;\n",
              "    }\n",
              "\n",
              "    .dataframe tbody tr th {\n",
              "        vertical-align: top;\n",
              "    }\n",
              "\n",
              "    .dataframe thead th {\n",
              "        text-align: right;\n",
              "    }\n",
              "</style>\n",
              "<table border=\"1\" class=\"dataframe\">\n",
              "  <thead>\n",
              "    <tr style=\"text-align: right;\">\n",
              "      <th></th>\n",
              "      <th>Class</th>\n",
              "      <th>Review</th>\n",
              "    </tr>\n",
              "  </thead>\n",
              "  <tbody>\n",
              "    <tr>\n",
              "      <th>0</th>\n",
              "      <td>1</td>\n",
              "      <td>Unfortunately, the frustration of being Dr. Go...</td>\n",
              "    </tr>\n",
              "    <tr>\n",
              "      <th>1</th>\n",
              "      <td>2</td>\n",
              "      <td>Been going to Dr. Goldberg for over 10 years. ...</td>\n",
              "    </tr>\n",
              "    <tr>\n",
              "      <th>2</th>\n",
              "      <td>1</td>\n",
              "      <td>I don't know what Dr. Goldberg was like before...</td>\n",
              "    </tr>\n",
              "    <tr>\n",
              "      <th>3</th>\n",
              "      <td>1</td>\n",
              "      <td>I'm writing this review to give you a heads up...</td>\n",
              "    </tr>\n",
              "    <tr>\n",
              "      <th>4</th>\n",
              "      <td>2</td>\n",
              "      <td>All the food is great here. But the best thing...</td>\n",
              "    </tr>\n",
              "    <tr>\n",
              "      <th>...</th>\n",
              "      <td>...</td>\n",
              "      <td>...</td>\n",
              "    </tr>\n",
              "    <tr>\n",
              "      <th>559995</th>\n",
              "      <td>2</td>\n",
              "      <td>Ryan was as good as everyone on yelp has claim...</td>\n",
              "    </tr>\n",
              "    <tr>\n",
              "      <th>559996</th>\n",
              "      <td>2</td>\n",
              "      <td>Professional \\nFriendly\\nOn time AND affordabl...</td>\n",
              "    </tr>\n",
              "    <tr>\n",
              "      <th>559997</th>\n",
              "      <td>1</td>\n",
              "      <td>Phone calls always go to voicemail and message...</td>\n",
              "    </tr>\n",
              "    <tr>\n",
              "      <th>559998</th>\n",
              "      <td>1</td>\n",
              "      <td>Looks like all of the good reviews have gone t...</td>\n",
              "    </tr>\n",
              "    <tr>\n",
              "      <th>559999</th>\n",
              "      <td>2</td>\n",
              "      <td>Ryan Rocks! I called him this morning for some...</td>\n",
              "    </tr>\n",
              "  </tbody>\n",
              "</table>\n",
              "<p>560000 rows × 2 columns</p>\n",
              "</div>"
            ],
            "text/plain": [
              "        Class                                             Review\n",
              "0           1  Unfortunately, the frustration of being Dr. Go...\n",
              "1           2  Been going to Dr. Goldberg for over 10 years. ...\n",
              "2           1  I don't know what Dr. Goldberg was like before...\n",
              "3           1  I'm writing this review to give you a heads up...\n",
              "4           2  All the food is great here. But the best thing...\n",
              "...       ...                                                ...\n",
              "559995      2  Ryan was as good as everyone on yelp has claim...\n",
              "559996      2  Professional \\nFriendly\\nOn time AND affordabl...\n",
              "559997      1  Phone calls always go to voicemail and message...\n",
              "559998      1  Looks like all of the good reviews have gone t...\n",
              "559999      2  Ryan Rocks! I called him this morning for some...\n",
              "\n",
              "[560000 rows x 2 columns]"
            ]
          },
          "metadata": {
            "tags": []
          },
          "execution_count": 6
        }
      ]
    },
    {
      "cell_type": "code",
      "metadata": {
        "id": "EaJSgzUntPnR"
      },
      "source": [
        "# Перевод целевой переменной в 0 и 1\n",
        "y_train = train['Class'] - 1"
      ],
      "execution_count": 7,
      "outputs": []
    },
    {
      "cell_type": "code",
      "metadata": {
        "id": "m-MrrV6obpkS"
      },
      "source": [
        "reviews = train['Review']"
      ],
      "execution_count": 9,
      "outputs": []
    },
    {
      "cell_type": "code",
      "metadata": {
        "id": "_9Af84Nwt0xZ"
      },
      "source": [
        "tokenizer = Tokenizer(num_words=MAX_WORDS)"
      ],
      "execution_count": 8,
      "outputs": []
    },
    {
      "cell_type": "code",
      "metadata": {
        "id": "4dcUbZdEt1K4"
      },
      "source": [
        "tokenizer.fit_on_texts(reviews)"
      ],
      "execution_count": 10,
      "outputs": []
    },
    {
      "cell_type": "code",
      "metadata": {
        "id": "QzpYanpAt1NZ"
      },
      "source": [
        "tokenizer.word_index"
      ],
      "execution_count": null,
      "outputs": []
    },
    {
      "cell_type": "code",
      "metadata": {
        "id": "BV7VGs29t1P5"
      },
      "source": [
        "# Присваиваем каждому слову номер\n",
        "sequences = tokenizer.texts_to_sequences(reviews)"
      ],
      "execution_count": 13,
      "outputs": []
    },
    {
      "cell_type": "code",
      "metadata": {
        "id": "ieJJddIet1Sp"
      },
      "source": [
        "# Приводим вектор к одному размеру\n",
        "x_train = pad_sequences(sequences, maxlen=MAX_LEN)"
      ],
      "execution_count": 19,
      "outputs": []
    },
    {
      "cell_type": "code",
      "metadata": {
        "id": "-r227PeFt1VL"
      },
      "source": [
        "model = Sequential()\n",
        "model.add(Embedding(MAX_WORDS, 64, input_length=MAX_LEN))\n",
        "model.add(Flatten())\n",
        "model.add(Dense(128))\n",
        "model.add(Dense(1, activation='sigmoid'))\n",
        "\n",
        "model.compile(optimizer='adam', loss='binary_crossentropy', metrics='accuracy')"
      ],
      "execution_count": 20,
      "outputs": []
    },
    {
      "cell_type": "code",
      "metadata": {
        "id": "HbyOrzc0t1Xu",
        "colab": {
          "base_uri": "https://localhost:8080/"
        },
        "outputId": "82b1237a-d414-4b02-e26f-ebfc2182afc0"
      },
      "source": [
        "history = model.fit(x_train, y_train, epochs=5, batch_size=128, validation_split=0.1)"
      ],
      "execution_count": 21,
      "outputs": [
        {
          "output_type": "stream",
          "text": [
            "Epoch 1/5\n",
            "3938/3938 [==============================] - 117s 30ms/step - loss: 0.2694 - accuracy: 0.8843 - val_loss: 0.1752 - val_accuracy: 0.9331\n",
            "Epoch 2/5\n",
            "3938/3938 [==============================] - 116s 29ms/step - loss: 0.1778 - accuracy: 0.9317 - val_loss: 0.1847 - val_accuracy: 0.9284\n",
            "Epoch 3/5\n",
            "3938/3938 [==============================] - 116s 29ms/step - loss: 0.1008 - accuracy: 0.9628 - val_loss: 0.2339 - val_accuracy: 0.9205\n",
            "Epoch 4/5\n",
            "3938/3938 [==============================] - 116s 30ms/step - loss: 0.0501 - accuracy: 0.9819 - val_loss: 0.3490 - val_accuracy: 0.9113\n",
            "Epoch 5/5\n",
            "3938/3938 [==============================] - 116s 29ms/step - loss: 0.0325 - accuracy: 0.9884 - val_loss: 0.3943 - val_accuracy: 0.9094\n"
          ],
          "name": "stdout"
        }
      ]
    },
    {
      "cell_type": "code",
      "metadata": {
        "id": "_pwms1zUt1aa",
        "colab": {
          "base_uri": "https://localhost:8080/",
          "height": 279
        },
        "outputId": "9eb4d8a1-3f13-45e5-f36c-67eafc37fdd7"
      },
      "source": [
        "plt.plot(history.history['accuracy'], \n",
        "         label='Доля верных ответов на обучающем наборе')\n",
        "plt.plot(history.history['val_accuracy'], \n",
        "         label='Доля верных ответов на проверочном наборе')\n",
        "plt.xlabel('Эпоха обучения')\n",
        "plt.ylabel('Доля верных ответов')\n",
        "plt.legend()\n",
        "plt.show()"
      ],
      "execution_count": 22,
      "outputs": [
        {
          "output_type": "display_data",
          "data": {
            "image/png": "[encoded data removed]",
            "text/plain": [
              "<Figure size 432x288 with 1 Axes>"
            ]
          },
          "metadata": {
            "tags": [],
            "needs_background": "light"
          }
        }
      ]
    },
    {
      "cell_type": "code",
      "metadata": {
        "id": "y8505q0ufIsJ"
      },
      "source": [
        ""
      ],
      "execution_count": null,
      "outputs": []
    },
    {
      "cell_type": "markdown",
      "metadata": {
        "id": "JqHp1heLfJ0e"
      },
      "source": [
        "### Проверка на тестовом наборе"
      ]
    },
    {
      "cell_type": "markdown",
      "metadata": {
        "id": "1Oi2S0AifJQP"
      },
      "source": [
        ""
      ]
    },
    {
      "cell_type": "code",
      "metadata": {
        "id": "kfl20nect1dL"
      },
      "source": [
        "test = pd.read_csv('yelp_review_polarity_csv/test.csv', \n",
        "                    header=None, \n",
        "                    names=['Class', 'Review'])"
      ],
      "execution_count": 23,
      "outputs": []
    },
    {
      "cell_type": "code",
      "metadata": {
        "id": "gMWTL1ZHt1gE"
      },
      "source": [
        "test_sequences = tokenizer.texts_to_sequences(test['Review'])"
      ],
      "execution_count": 24,
      "outputs": []
    },
    {
      "cell_type": "code",
      "metadata": {
        "id": "4Y6IuXK9t1i2"
      },
      "source": [
        "x_test = pad_sequences(test_sequences, maxlen=MAX_LEN)"
      ],
      "execution_count": 25,
      "outputs": []
    },
    {
      "cell_type": "code",
      "metadata": {
        "id": "CEjfBwt1t1lm"
      },
      "source": [
        "y_test = test['Class'] - 1"
      ],
      "execution_count": 26,
      "outputs": []
    },
    {
      "cell_type": "code",
      "metadata": {
        "id": "c1YjikInt1of",
        "colab": {
          "base_uri": "https://localhost:8080/"
        },
        "outputId": "b279281f-7d90-43af-c4e3-fa024f9c4c71"
      },
      "source": [
        "model.evaluate(x_test, y_test, verbose=1)"
      ],
      "execution_count": 27,
      "outputs": [
        {
          "output_type": "stream",
          "text": [
            "1188/1188 [==============================] - 3s 2ms/step - loss: 0.4523 - accuracy: 0.8966\n"
          ],
          "name": "stdout"
        },
        {
          "output_type": "execute_result",
          "data": {
            "text/plain": [
              "[0.4522826373577118, 0.8965526223182678]"
            ]
          },
          "metadata": {
            "tags": []
          },
          "execution_count": 27
        }
      ]
    },
    {
      "cell_type": "code",
      "metadata": {
        "id": "Ngbzgk6Vfex5"
      },
      "source": [
        "text = ''' The SmartBurger restaurant is awful. It’s a small shabby place. \n",
        "The food is really bad and very expensive.  The host and waiters are rude. \n",
        "I will never visit the SmartBurger again! '''"
      ],
      "execution_count": 28,
      "outputs": []
    },
    {
      "cell_type": "code",
      "metadata": {
        "id": "VthGJRm2fe0e"
      },
      "source": [
        "sequence = tokenizer.texts_to_sequences([text])"
      ],
      "execution_count": 29,
      "outputs": []
    },
    {
      "cell_type": "code",
      "metadata": {
        "id": "TPUBxUG9fe2w"
      },
      "source": [
        "data = pad_sequences(sequence, maxlen=MAX_LEN)"
      ],
      "execution_count": 30,
      "outputs": []
    },
    {
      "cell_type": "code",
      "metadata": {
        "id": "sFk09HYMf2KC"
      },
      "source": [
        "result = model.predict(data)"
      ],
      "execution_count": 31,
      "outputs": []
    },
    {
      "cell_type": "code",
      "metadata": {
        "colab": {
          "base_uri": "https://localhost:8080/"
        },
        "id": "iUV9zfSnf5RM",
        "outputId": "260488fc-dadf-499c-9b5d-c05d9fc5fa45"
      },
      "source": [
        "result"
      ],
      "execution_count": 32,
      "outputs": [
        {
          "output_type": "execute_result",
          "data": {
            "text/plain": [
              "array([[1.6747317e-05]], dtype=float32)"
            ]
          },
          "metadata": {
            "tags": []
          },
          "execution_count": 32
        }
      ]
    },
    {
      "cell_type": "code",
      "metadata": {
        "colab": {
          "base_uri": "https://localhost:8080/"
        },
        "id": "eLx3a-cZf6XP",
        "outputId": "9779f229-2a33-4068-dd00-9727e7e65f02"
      },
      "source": [
        "if result[[0]] < 0.5:\n",
        "    print('Отзыв отрицательный')\n",
        "else:\n",
        "    print('Отзыв положительный')"
      ],
      "execution_count": 33,
      "outputs": [
        {
          "output_type": "stream",
          "text": [
            "Отзыв отрицательный\n"
          ],
          "name": "stdout"
        }
      ]
    },
    {
      "cell_type": "code",
      "metadata": {
        "id": "C3KoIfxXhOUt"
      },
      "source": [
        ""
      ],
      "execution_count": null,
      "outputs": []
    }
  ]
}